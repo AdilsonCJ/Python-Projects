{
 "cells": [
  {
   "cell_type": "markdown",
   "id": "56246b90",
   "metadata": {},
   "source": [
    "##### Primeiro, importe as bibliotecas pandas, matplotlib e seaborn, e use a palavra mágica inline para exibir as visualizações no notebook. Depois, carregue os dados, que estão disponibilizados neste link: dados, em um DataFrame. Em seguida, você pode carregar os dados pela URI, ou salvá-los em sua máquina e carregá-los localmente;"
   ]
  },
  {
   "cell_type": "code",
   "execution_count": 8,
   "id": "14a2e4ca",
   "metadata": {},
   "outputs": [],
   "source": [
    "import pandas as pd\n",
    "import matplotlib.pyplot as plt\n",
    "import seaborn as sns\n",
    "%matplotlib inline"
   ]
  },
  {
   "cell_type": "code",
   "execution_count": 9,
   "id": "77adcc32",
   "metadata": {},
   "outputs": [
    {
     "data": {
      "text/html": [
       "<div>\n",
       "<style scoped>\n",
       "    .dataframe tbody tr th:only-of-type {\n",
       "        vertical-align: middle;\n",
       "    }\n",
       "\n",
       "    .dataframe tbody tr th {\n",
       "        vertical-align: top;\n",
       "    }\n",
       "\n",
       "    .dataframe thead th {\n",
       "        text-align: right;\n",
       "    }\n",
       "</style>\n",
       "<table border=\"1\" class=\"dataframe\">\n",
       "  <thead>\n",
       "    <tr style=\"text-align: right;\">\n",
       "      <th></th>\n",
       "      <th>Month</th>\n",
       "      <th>Sales</th>\n",
       "    </tr>\n",
       "  </thead>\n",
       "  <tbody>\n",
       "    <tr>\n",
       "      <th>0</th>\n",
       "      <td>1-01</td>\n",
       "      <td>266.0</td>\n",
       "    </tr>\n",
       "    <tr>\n",
       "      <th>1</th>\n",
       "      <td>1-02</td>\n",
       "      <td>145.9</td>\n",
       "    </tr>\n",
       "    <tr>\n",
       "      <th>2</th>\n",
       "      <td>1-03</td>\n",
       "      <td>183.1</td>\n",
       "    </tr>\n",
       "    <tr>\n",
       "      <th>3</th>\n",
       "      <td>1-04</td>\n",
       "      <td>119.3</td>\n",
       "    </tr>\n",
       "    <tr>\n",
       "      <th>4</th>\n",
       "      <td>1-05</td>\n",
       "      <td>180.3</td>\n",
       "    </tr>\n",
       "    <tr>\n",
       "      <th>5</th>\n",
       "      <td>1-06</td>\n",
       "      <td>168.5</td>\n",
       "    </tr>\n",
       "    <tr>\n",
       "      <th>6</th>\n",
       "      <td>1-07</td>\n",
       "      <td>231.8</td>\n",
       "    </tr>\n",
       "    <tr>\n",
       "      <th>7</th>\n",
       "      <td>1-08</td>\n",
       "      <td>224.5</td>\n",
       "    </tr>\n",
       "    <tr>\n",
       "      <th>8</th>\n",
       "      <td>1-09</td>\n",
       "      <td>192.8</td>\n",
       "    </tr>\n",
       "    <tr>\n",
       "      <th>9</th>\n",
       "      <td>1-10</td>\n",
       "      <td>122.9</td>\n",
       "    </tr>\n",
       "  </tbody>\n",
       "</table>\n",
       "</div>"
      ],
      "text/plain": [
       "  Month  Sales\n",
       "0  1-01  266.0\n",
       "1  1-02  145.9\n",
       "2  1-03  183.1\n",
       "3  1-04  119.3\n",
       "4  1-05  180.3\n",
       "5  1-06  168.5\n",
       "6  1-07  231.8\n",
       "7  1-08  224.5\n",
       "8  1-09  192.8\n",
       "9  1-10  122.9"
      ]
     },
     "execution_count": 9,
     "metadata": {},
     "output_type": "execute_result"
    }
   ],
   "source": [
    "path = \"https://d11s0xq1vqg039.cloudfront.net/videos_conteudo/visual/micro07/oficina/arquivos/dadosoficina07.txt\"\n",
    "df_shampoo = pd.read_csv(path)\n",
    "df_shampoo.head(10)"
   ]
  },
  {
   "cell_type": "markdown",
   "id": "64777231",
   "metadata": {},
   "source": [
    "##### Para o segundo e último passo, crie uma visualização que mostre a série temporal das vendas ao longo dos meses. Você pode, por exemplo, se perguntar se existe alguma tendência ou alguma periodicidade, OK?"
   ]
  },
  {
   "cell_type": "code",
   "execution_count": 15,
   "id": "ebe044af",
   "metadata": {},
   "outputs": [
    {
     "data": {
      "image/png": "[encoded data removed]",
      "text/plain": [
       "<Figure size 720x360 with 1 Axes>"
      ]
     },
     "metadata": {
      "needs_background": "light"
     },
     "output_type": "display_data"
    }
   ],
   "source": [
    "plt.figure(figsize=(10,5))\n",
    "plt.title('Variação no Preço do Shampoo no decorrer de X meses')\n",
    "sns.lineplot(x=\"Month\", y=\"Sales\", data=df_shampoo)\n",
    "plt.xticks([\"1-01\",\"1-06\",\"2-01\",\"2-06\",\"3-01\",\"3-06\",\"3-12\"])\n",
    "plt.show()"
   ]
  },
  {
   "cell_type": "code",
   "execution_count": 14,
   "id": "e89fc02a",
   "metadata": {},
   "outputs": [
    {
     "data": {
      "text/plain": [
       "0     1-01\n",
       "1     1-02\n",
       "2     1-03\n",
       "3     1-04\n",
       "4     1-05\n",
       "5     1-06\n",
       "6     1-07\n",
       "7     1-08\n",
       "8     1-09\n",
       "9     1-10\n",
       "10    1-11\n",
       "11    1-12\n",
       "12    2-01\n",
       "13    2-02\n",
       "14    2-03\n",
       "15    2-04\n",
       "16    2-05\n",
       "17    2-06\n",
       "18    2-07\n",
       "19    2-08\n",
       "20    2-09\n",
       "21    2-10\n",
       "22    2-11\n",
       "23    2-12\n",
       "24    3-01\n",
       "25    3-02\n",
       "26    3-03\n",
       "27    3-04\n",
       "28    3-05\n",
       "29    3-06\n",
       "30    3-07\n",
       "31    3-08\n",
       "32    3-09\n",
       "33    3-10\n",
       "34    3-11\n",
       "35    3-12\n",
       "Name: Month, dtype: object"
      ]
     },
     "execution_count": 14,
     "metadata": {},
     "output_type": "execute_result"
    }
   ],
   "source": [
    "df_shampoo['Month']"
   ]
  },
  {
   "cell_type": "code",
   "execution_count": null,
   "id": "4d22a5fa",
   "metadata": {},
   "outputs": [],
   "source": []
  }
 ],
 "metadata": {
  "kernelspec": {
   "display_name": "Python 3",
   "language": "python",
   "name": "python3"
  },
  "language_info": {
   "codemirror_mode": {
    "name": "ipython",
    "version": 3
   },
   "file_extension": ".py",
   "mimetype": "text/x-python",
   "name": "python",
   "nbconvert_exporter": "python",
   "pygments_lexer": "ipython3",
   "version": "3.8.8"
  }
 },
 "nbformat": 4,
 "nbformat_minor": 5
}
