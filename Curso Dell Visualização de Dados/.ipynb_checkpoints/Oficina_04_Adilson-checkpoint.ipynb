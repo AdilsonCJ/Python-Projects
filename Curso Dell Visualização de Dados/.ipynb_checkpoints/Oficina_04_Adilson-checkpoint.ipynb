{
 "cells": [
  {
   "cell_type": "markdown",
   "id": "843f6136",
   "metadata": {},
   "source": [
    "##### Importe as bibliotecas pandas, matplotlib e seaborn e use a palavra mágica inline para exibir as visualizações no notebook. Carregue os dados em um DataFrame. Os dados estão disponibilizados no link: dados. Você pode carregar os dados pela URI ou salvar em sua máquina e carregá-los localmente."
   ]
  },
  {
   "cell_type": "code",
   "execution_count": 1,
   "id": "6baecb12",
   "metadata": {},
   "outputs": [],
   "source": [
    "import pandas as pd\n",
    "import matplotlib.pyplot as plt\n",
    "import seaborn as sns\n",
    "%matplotlib inline"
   ]
  },
  {
   "cell_type": "code",
   "execution_count": 2,
   "id": "526f2004",
   "metadata": {},
   "outputs": [
    {
     "data": {
      "text/html": [
       "<div>\n",
       "<style scoped>\n",
       "    .dataframe tbody tr th:only-of-type {\n",
       "        vertical-align: middle;\n",
       "    }\n",
       "\n",
       "    .dataframe tbody tr th {\n",
       "        vertical-align: top;\n",
       "    }\n",
       "\n",
       "    .dataframe thead th {\n",
       "        text-align: right;\n",
       "    }\n",
       "</style>\n",
       "<table border=\"1\" class=\"dataframe\">\n",
       "  <thead>\n",
       "    <tr style=\"text-align: right;\">\n",
       "      <th></th>\n",
       "      <th>city</th>\n",
       "      <th>area</th>\n",
       "      <th>rooms</th>\n",
       "      <th>bathroom</th>\n",
       "      <th>parking spaces</th>\n",
       "      <th>floor</th>\n",
       "      <th>animal</th>\n",
       "      <th>furniture</th>\n",
       "      <th>hoa (R$)</th>\n",
       "      <th>rent amount (R$)</th>\n",
       "      <th>property tax (R$)</th>\n",
       "      <th>fire insurance (R$)</th>\n",
       "      <th>total (R$)</th>\n",
       "    </tr>\n",
       "  </thead>\n",
       "  <tbody>\n",
       "    <tr>\n",
       "      <th>0</th>\n",
       "      <td>São Paulo</td>\n",
       "      <td>70</td>\n",
       "      <td>2</td>\n",
       "      <td>1</td>\n",
       "      <td>1</td>\n",
       "      <td>7</td>\n",
       "      <td>acept</td>\n",
       "      <td>furnished</td>\n",
       "      <td>2065</td>\n",
       "      <td>3300</td>\n",
       "      <td>211</td>\n",
       "      <td>42</td>\n",
       "      <td>5618</td>\n",
       "    </tr>\n",
       "    <tr>\n",
       "      <th>1</th>\n",
       "      <td>Porto Alegre</td>\n",
       "      <td>80</td>\n",
       "      <td>1</td>\n",
       "      <td>1</td>\n",
       "      <td>1</td>\n",
       "      <td>6</td>\n",
       "      <td>acept</td>\n",
       "      <td>not furnished</td>\n",
       "      <td>1000</td>\n",
       "      <td>2800</td>\n",
       "      <td>0</td>\n",
       "      <td>41</td>\n",
       "      <td>3841</td>\n",
       "    </tr>\n",
       "    <tr>\n",
       "      <th>2</th>\n",
       "      <td>Porto Alegre</td>\n",
       "      <td>51</td>\n",
       "      <td>2</td>\n",
       "      <td>1</td>\n",
       "      <td>0</td>\n",
       "      <td>2</td>\n",
       "      <td>acept</td>\n",
       "      <td>not furnished</td>\n",
       "      <td>270</td>\n",
       "      <td>1112</td>\n",
       "      <td>22</td>\n",
       "      <td>17</td>\n",
       "      <td>1421</td>\n",
       "    </tr>\n",
       "    <tr>\n",
       "      <th>3</th>\n",
       "      <td>São Paulo</td>\n",
       "      <td>25</td>\n",
       "      <td>1</td>\n",
       "      <td>1</td>\n",
       "      <td>0</td>\n",
       "      <td>1</td>\n",
       "      <td>not acept</td>\n",
       "      <td>not furnished</td>\n",
       "      <td>0</td>\n",
       "      <td>800</td>\n",
       "      <td>25</td>\n",
       "      <td>11</td>\n",
       "      <td>836</td>\n",
       "    </tr>\n",
       "    <tr>\n",
       "      <th>4</th>\n",
       "      <td>Rio de Janeiro</td>\n",
       "      <td>72</td>\n",
       "      <td>2</td>\n",
       "      <td>1</td>\n",
       "      <td>0</td>\n",
       "      <td>7</td>\n",
       "      <td>acept</td>\n",
       "      <td>not furnished</td>\n",
       "      <td>740</td>\n",
       "      <td>1900</td>\n",
       "      <td>85</td>\n",
       "      <td>25</td>\n",
       "      <td>2750</td>\n",
       "    </tr>\n",
       "  </tbody>\n",
       "</table>\n",
       "</div>"
      ],
      "text/plain": [
       "             city  area  rooms  bathroom  parking spaces floor     animal  \\\n",
       "0       São Paulo    70      2         1               1     7      acept   \n",
       "1    Porto Alegre    80      1         1               1     6      acept   \n",
       "2    Porto Alegre    51      2         1               0     2      acept   \n",
       "3       São Paulo    25      1         1               0     1  not acept   \n",
       "4  Rio de Janeiro    72      2         1               0     7      acept   \n",
       "\n",
       "       furniture  hoa (R$)  rent amount (R$)  property tax (R$)  \\\n",
       "0      furnished      2065              3300                211   \n",
       "1  not furnished      1000              2800                  0   \n",
       "2  not furnished       270              1112                 22   \n",
       "3  not furnished         0               800                 25   \n",
       "4  not furnished       740              1900                 85   \n",
       "\n",
       "   fire insurance (R$)  total (R$)  \n",
       "0                   42        5618  \n",
       "1                   41        3841  \n",
       "2                   17        1421  \n",
       "3                   11         836  \n",
       "4                   25        2750  "
      ]
     },
     "execution_count": 2,
     "metadata": {},
     "output_type": "execute_result"
    }
   ],
   "source": [
    "path = 'https://d11s0xq1vqg039.cloudfront.net/videos_conteudo/visual/micro05/oficina/arquivos/dadosoficina05.txt'\n",
    "df_imoveis = pd.read_csv(path)\n",
    "df_imoveis.head(5)"
   ]
  },
  {
   "cell_type": "code",
   "execution_count": 3,
   "id": "c6a035bc",
   "metadata": {},
   "outputs": [
    {
     "name": "stdout",
     "output_type": "stream",
     "text": [
      "O imóvel mais caro fica em ['São Paulo']\n",
      "O imóvel mais barato fica em ['Belo Horizonte']\n"
     ]
    }
   ],
   "source": [
    "\n",
    "df_imoveis['rent amount (R$)'].describe()\n",
    "\n",
    "df_maior_aluguel = df_imoveis[df_imoveis['rent amount (R$)'] == df_imoveis['rent amount (R$)'].max()]\n",
    "print(f'O imóvel mais caro fica em {df_maior_aluguel[\"city\"].values}')\n",
    "\n",
    "df_menor_aluguel = df_imoveis[df_imoveis['rent amount (R$)'] == df_imoveis['rent amount (R$)'].min()]\n",
    "print(f'O imóvel mais barato fica em {df_menor_aluguel[\"city\"].values}')\n"
   ]
  },
  {
   "cell_type": "markdown",
   "id": "40384fc7",
   "metadata": {},
   "source": [
    "##### Crie uma visualização que mostre a distribuição dos valores de aluguel, ‘rent amount (R$)’, dos imóveis. Pode utilizar o gráfico que você julgar mais adequado. Qual faixa de valores de aluguel é mais comum?"
   ]
  },
  {
   "cell_type": "code",
   "execution_count": 15,
   "id": "398ea2f3",
   "metadata": {},
   "outputs": [
    {
     "data": {
      "image/png": "[encoded data removed]",
      "text/plain": [
       "<Figure size 720x360 with 1 Axes>"
      ]
     },
     "metadata": {
      "needs_background": "light"
     },
     "output_type": "display_data"
    },
    {
     "name": "stdout",
     "output_type": "stream",
     "text": [
      "Adicionando alguns elementos adicionais na escala, podemos avaliar que a faixa mais comum de alugueis se encontra em 2.000 mil reais (oscilando de 1.500 até 2.500) \n"
     ]
    }
   ],
   "source": [
    "# Construção do Gráfico de Distribuição de Aluguel\n",
    "plt.figure(figsize=(10, 5))\n",
    "plt.title('Distribuição de Valores dos Alugueis dos imóveis')\n",
    "sns.kdeplot(df_imoveis['rent amount (R$)'])\n",
    "plt.xticks([0,2000,4000,8000,12000,16000,20000,24000])\n",
    "plt.show()\n",
    "\n",
    "print('Adicionando alguns elementos adicionais na escala, podemos avaliar que a faixa mais comum de alugueis se encontra em 2.000 mil reais (oscilando de 1.500 até 2.500) ')"
   ]
  },
  {
   "cell_type": "markdown",
   "id": "7b4eb160",
   "metadata": {},
   "source": [
    "##### Crie uma visualização que mostre a distribuição dos valores de seguro contra incêndio, 'fire insurance (R$)', dos imóveis. Existem valores incomuns?"
   ]
  },
  {
   "cell_type": "code",
   "execution_count": 19,
   "id": "15e68564",
   "metadata": {},
   "outputs": [
    {
     "data": {
      "image/png": "[encoded data removed]",
      "text/plain": [
       "<Figure size 720x360 with 1 Axes>"
      ]
     },
     "metadata": {
      "needs_background": "light"
     },
     "output_type": "display_data"
    },
    {
     "name": "stdout",
     "output_type": "stream",
     "text": [
      "Pelo gráfico, conseguimos avaliar que a partir dos R$ 150 os valores começam a ficar menor frequentes. A partir de R$ 200, apesar da visualização a partir dessa faixa estar prejudicada\n"
     ]
    }
   ],
   "source": [
    "# Construção do Gráfico de Distribuição de Aluguel\n",
    "plt.figure(figsize=(10,5))\n",
    "plt.style.use('seaborn-deep')\n",
    "plt.title('Gráfico de Distribuição do Seguro Contra-Incêndio')\n",
    "plt.hist(df_imoveis['fire insurance (R$)'],bins=50)\n",
    "plt.show()\n",
    "\n",
    "print('Pelo gráfico, conseguimos avaliar que a partir dos R$ 150 os valores começam a ficar menor frequentes. A partir de R$ 200, apesar da visualização a partir dessa faixa estar prejudicada')"
   ]
  },
  {
   "cell_type": "code",
   "execution_count": 20,
   "id": "9ad818da",
   "metadata": {},
   "outputs": [
    {
     "data": {
      "text/html": [
       "<div>\n",
       "<style scoped>\n",
       "    .dataframe tbody tr th:only-of-type {\n",
       "        vertical-align: middle;\n",
       "    }\n",
       "\n",
       "    .dataframe tbody tr th {\n",
       "        vertical-align: top;\n",
       "    }\n",
       "\n",
       "    .dataframe thead th {\n",
       "        text-align: right;\n",
       "    }\n",
       "</style>\n",
       "<table border=\"1\" class=\"dataframe\">\n",
       "  <thead>\n",
       "    <tr style=\"text-align: right;\">\n",
       "      <th></th>\n",
       "      <th>city</th>\n",
       "      <th>area</th>\n",
       "      <th>rooms</th>\n",
       "      <th>bathroom</th>\n",
       "      <th>parking spaces</th>\n",
       "      <th>floor</th>\n",
       "      <th>animal</th>\n",
       "      <th>furniture</th>\n",
       "      <th>hoa (R$)</th>\n",
       "      <th>rent amount (R$)</th>\n",
       "      <th>property tax (R$)</th>\n",
       "      <th>fire insurance (R$)</th>\n",
       "      <th>total (R$)</th>\n",
       "    </tr>\n",
       "  </thead>\n",
       "  <tbody>\n",
       "    <tr>\n",
       "      <th>1775</th>\n",
       "      <td>Belo Horizonte</td>\n",
       "      <td>100</td>\n",
       "      <td>3</td>\n",
       "      <td>2</td>\n",
       "      <td>1</td>\n",
       "      <td>-</td>\n",
       "      <td>acept</td>\n",
       "      <td>not furnished</td>\n",
       "      <td>0</td>\n",
       "      <td>14500</td>\n",
       "      <td>423</td>\n",
       "      <td>238</td>\n",
       "      <td>15160</td>\n",
       "    </tr>\n",
       "    <tr>\n",
       "      <th>1990</th>\n",
       "      <td>São Paulo</td>\n",
       "      <td>80</td>\n",
       "      <td>2</td>\n",
       "      <td>1</td>\n",
       "      <td>1</td>\n",
       "      <td>1</td>\n",
       "      <td>acept</td>\n",
       "      <td>not furnished</td>\n",
       "      <td>875</td>\n",
       "      <td>24000</td>\n",
       "      <td>0</td>\n",
       "      <td>305</td>\n",
       "      <td>25180</td>\n",
       "    </tr>\n",
       "    <tr>\n",
       "      <th>2432</th>\n",
       "      <td>Belo Horizonte</td>\n",
       "      <td>150</td>\n",
       "      <td>5</td>\n",
       "      <td>5</td>\n",
       "      <td>5</td>\n",
       "      <td>-</td>\n",
       "      <td>acept</td>\n",
       "      <td>furnished</td>\n",
       "      <td>0</td>\n",
       "      <td>14000</td>\n",
       "      <td>835</td>\n",
       "      <td>230</td>\n",
       "      <td>15070</td>\n",
       "    </tr>\n",
       "    <tr>\n",
       "      <th>6608</th>\n",
       "      <td>Belo Horizonte</td>\n",
       "      <td>193</td>\n",
       "      <td>3</td>\n",
       "      <td>3</td>\n",
       "      <td>1</td>\n",
       "      <td>-</td>\n",
       "      <td>acept</td>\n",
       "      <td>not furnished</td>\n",
       "      <td>0</td>\n",
       "      <td>13500</td>\n",
       "      <td>236</td>\n",
       "      <td>222</td>\n",
       "      <td>13960</td>\n",
       "    </tr>\n",
       "    <tr>\n",
       "      <th>7586</th>\n",
       "      <td>Belo Horizonte</td>\n",
       "      <td>148</td>\n",
       "      <td>2</td>\n",
       "      <td>3</td>\n",
       "      <td>3</td>\n",
       "      <td>12</td>\n",
       "      <td>acept</td>\n",
       "      <td>not furnished</td>\n",
       "      <td>870</td>\n",
       "      <td>15000</td>\n",
       "      <td>685</td>\n",
       "      <td>200</td>\n",
       "      <td>16760</td>\n",
       "    </tr>\n",
       "  </tbody>\n",
       "</table>\n",
       "</div>"
      ],
      "text/plain": [
       "                city  area  rooms  bathroom  parking spaces floor animal  \\\n",
       "1775  Belo Horizonte   100      3         2               1     -  acept   \n",
       "1990       São Paulo    80      2         1               1     1  acept   \n",
       "2432  Belo Horizonte   150      5         5               5     -  acept   \n",
       "6608  Belo Horizonte   193      3         3               1     -  acept   \n",
       "7586  Belo Horizonte   148      2         3               3    12  acept   \n",
       "\n",
       "          furniture  hoa (R$)  rent amount (R$)  property tax (R$)  \\\n",
       "1775  not furnished         0             14500                423   \n",
       "1990  not furnished       875             24000                  0   \n",
       "2432      furnished         0             14000                835   \n",
       "6608  not furnished         0             13500                236   \n",
       "7586  not furnished       870             15000                685   \n",
       "\n",
       "      fire insurance (R$)  total (R$)  \n",
       "1775                  238       15160  \n",
       "1990                  305       25180  \n",
       "2432                  230       15070  \n",
       "6608                  222       13960  \n",
       "7586                  200       16760  "
      ]
     },
     "execution_count": 20,
     "metadata": {},
     "output_type": "execute_result"
    }
   ],
   "source": [
    "# Encontrando manualmente os valores acima de R$ 200 para o seguro de incêndio\n",
    "df_imoveis[df_imoveis['fire insurance (R$)'] >= 200]"
   ]
  },
  {
   "cell_type": "code",
   "execution_count": 36,
   "id": "f8ec2cd2",
   "metadata": {},
   "outputs": [
    {
     "name": "stdout",
     "output_type": "stream",
     "text": [
      "{0} {410} {8204}\n",
      "Podemos avaliar via outlier que as localizações de maior valor, logicamente, possuem o preço do fire insurance inflacionado\n"
     ]
    }
   ],
   "source": [
    "# Avaliando Outlier (mean+-[stdx2])\n",
    "\n",
    "media = df_imoveis['fire insurance (R$)'].mean()\n",
    "std = df_imoveis['fire insurance (R$)'].std()\n",
    "\n",
    "df_negativo = df_imoveis[df_imoveis['fire insurance (R$)'] < (media-(std*2))]\n",
    "df_positivo = df_imoveis[df_imoveis['fire insurance (R$)'] > (media+(std*2))]\n",
    "\n",
    "print({len(df_negativo)},{len(df_positivo)},{len(df_imoveis)})\n",
    "\n",
    "print('Podemos avaliar via outlier que as localizações de maior valor, logicamente, possuem o preço do fire insurance inflacionado')"
   ]
  }
 ],
 "metadata": {
  "kernelspec": {
   "display_name": "Python 3",
   "language": "python",
   "name": "python3"
  },
  "language_info": {
   "codemirror_mode": {
    "name": "ipython",
    "version": 3
   },
   "file_extension": ".py",
   "mimetype": "text/x-python",
   "name": "python",
   "nbconvert_exporter": "python",
   "pygments_lexer": "ipython3",
   "version": "3.8.8"
  }
 },
 "nbformat": 4,
 "nbformat_minor": 5
}
