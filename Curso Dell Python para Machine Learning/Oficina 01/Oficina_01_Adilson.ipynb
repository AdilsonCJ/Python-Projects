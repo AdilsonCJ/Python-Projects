{
 "cells": [
  {
   "cell_type": "markdown",
   "id": "46d01575",
   "metadata": {},
   "source": [
    "#### Depois de aprender bastante sobre programação funcional nesta aula, chegou o momento de colocar seus conhecimentos em prática para resolver o problema proposto nesta oficina. Para isso, imagine o seguinte caso: Você foi chamado para trabalhar como novo programador Python para o aplicativo Spotify, analisando as avaliações de músicas pelos usuários. O seu chefe está muito entusiasmado com a sua chegada e já pensou em várias perguntas para você responder. Ele coletou diversas avaliações dos gêneros musicais Rock e Pop. Em cada avaliação o usuário pode dar uma nota em quantidade de estrelas para uma música, de 1 a 5. Ele quer que você mapeie as avaliações numéricas em categorias: entre 0 e 1 estrelas é uma música ruim, entre 2 e 3 é uma música mediana e entre 4 e 5 são para as músicas boas. \n",
    "\n",
    "#### O seu papel é dizer para o seu chefe quantas músicas ruins, medianas e boas existem para cada gênero: Rock e Pop.\n",
    "\n",
    "#### Além disso, ele quer saber se existe alguma música mediana de Rock e se todas as músicas de Pop são boas. Por fim, quer saber qual gênero musical teve uma maior quantidade de músicas boas. Abaixo seguem as notas de cada gênero.\n",
    "\n",
    "##### notas_rock = [5, 1, 4, 0, 2, 5, 2, 1, 0, 5, 5, 3, 5, 2, 5, 5, 3, 5, 4, 4]\n",
    "##### notas_pop = [3, 2, 5, 1, 2, 1, 4, 1, 5, 0, 4, 2, 1, 2, 5, 2, 4, 4, 0, 1]\n",
    "\n",
    "#### Pronto, com essas informações você pode começar a desenvolver um programa em Python capaz de responder as perguntas do seu chefe."
   ]
  },
  {
   "cell_type": "code",
   "execution_count": null,
   "id": "8004e441",
   "metadata": {},
   "outputs": [],
   "source": [
    "# DONE Primeiro o len() para cada um dos gêneros em cada uma das classificações \n",
    "# DONE Avaliar se Rock possue alguma música com avaliação 2 ou 3 \n",
    "# DONE Avaliar via all se todas as músicas de Pop tem avaliação 4 ou 5\n",
    "# DONE Avaliar e Comparar o len() entre Rock e o Pop"
   ]
  },
  {
   "cell_type": "code",
   "execution_count": 5,
   "id": "e0db6041",
   "metadata": {},
   "outputs": [],
   "source": [
    "# Listas Originais\n",
    "\n",
    "notas_rock = [5, 1, 4, 0, 2, 5, 2, 1, 0, 5, 5, 3, 5, 2, 5, 5, 3, 5, 4, 4]\n",
    "notas_pop = [3, 2, 5, 1, 2, 1, 4, 1, 5, 0, 4, 2, 1, 2, 5, 2, 4, 4, 0, 1]"
   ]
  },
  {
   "cell_type": "code",
   "execution_count": 33,
   "id": "7ccc281a",
   "metadata": {},
   "outputs": [
    {
     "name": "stdout",
     "output_type": "stream",
     "text": [
      "--- Avaliação da Distribuição das Músicas ---\n",
      "\n",
      "A quantidade de Músicas de Rock ruins são 4\n",
      "A quantidade de Músicas de Rock medianas são 5\n",
      "A quantidade de Músicas de Rock boas são 11\n",
      "\n",
      "A quantidade de Músicas de Pop ruins são 7\n",
      "A quantidade de Músicas de Pop medianas são 6\n",
      "A quantidade de Músicas de Pop boas são 7\n",
      "\n",
      " ---  --- --- --- ---  --- --- --- --- --- ---\n"
     ]
    }
   ],
   "source": [
    "print('--- Avaliação da Distribuição das Músicas ---')\n",
    "\n",
    "print('\\nA quantidade de Músicas de Rock ruins são {}'.format((len(list(filter(lambda x:x==0,notas_rock))) + len(list(filter(lambda x:x==1,notas_rock))))))\n",
    "print('A quantidade de Músicas de Rock medianas são {}'.format((len(list(filter(lambda x:x==2,notas_rock))) + len(list(filter(lambda x:x==3,notas_rock))))))\n",
    "print('A quantidade de Músicas de Rock boas são {}'.format((len(list(filter(lambda x:x==4,notas_rock))) + len(list(filter(lambda x:x==5,notas_rock))))))\n",
    "\n",
    "print('\\nA quantidade de Músicas de Pop ruins são {}'.format((len(list(filter(lambda x:x==0,notas_pop))) + len(list(filter(lambda x:x==1,notas_pop))))))\n",
    "print('A quantidade de Músicas de Pop medianas são {}'.format((len(list(filter(lambda x:x==2,notas_pop))) + len(list(filter(lambda x:x==3,notas_pop))))))\n",
    "print('A quantidade de Músicas de Pop boas são {}'.format((len(list(filter(lambda x:x==4,notas_pop))) + len(list(filter(lambda x:x==5,notas_pop))))))\n",
    "print('\\n ---  --- --- --- ---  --- --- --- --- --- ---')"
   ]
  },
  {
   "cell_type": "code",
   "execution_count": 47,
   "id": "221ad450",
   "metadata": {},
   "outputs": [
    {
     "name": "stdout",
     "output_type": "stream",
     "text": [
      "Existe pelo menos 1 música de Rock de Classificação Mediana\n"
     ]
    }
   ],
   "source": [
    "# Existe alguma música mediana de Rock?\n",
    "\n",
    "def classificar(nota):\n",
    "    if nota == 0 or nota == 1:\n",
    "        return 'ruim'\n",
    "    elif nota == 2 or nota == 3:\n",
    "        return 'mediana'\n",
    "    else:\n",
    "        return 'boa'\n",
    "    \n",
    "rock_2_3 = any(filter(lambda x:x == 'mediana',map(classificar,notas_rock)))\n",
    "\n",
    "if rock_2_3 == True:\n",
    "    print('Existe pelo menos 1 música de Rock de Classificação Mediana')\n",
    "else:\n",
    "    print('Não existem músicas medianas de Rock')"
   ]
  },
  {
   "cell_type": "code",
   "execution_count": 61,
   "id": "0ae1a7bf",
   "metadata": {},
   "outputs": [
    {
     "name": "stdout",
     "output_type": "stream",
     "text": [
      "Nem todas as músicas Pop foram classificadas como boa - nota 4 ou 5\n"
     ]
    }
   ],
   "source": [
    "# Todas as músicas pop possuem classificação 4 ou 5?\n",
    "\n",
    "pop_4_5 = all(map(lambda z: z!='boa',list(map(classificar,notas_pop))))\n",
    "\n",
    "if pop_4_5 == False:\n",
    "    print('Nem todas as músicas Pop foram classificadas como boa - nota 4 ou 5')\n",
    "else:\n",
    "    print('Todas as músicas Pop foram classificadas como boas - nota 4 ou 5')"
   ]
  },
  {
   "cell_type": "code",
   "execution_count": 68,
   "id": "a85a7f37",
   "metadata": {},
   "outputs": [
    {
     "name": "stdout",
     "output_type": "stream",
     "text": [
      "Rock possui mais músicas classificadas como \"boas\" do que o Pop\n"
     ]
    }
   ],
   "source": [
    "# Avaliar qual gênero teve a maior quantidade de notas boas\n",
    "\n",
    "def boas_notas(lista):\n",
    "    return len(list(filter(lambda r:r>=4,lista)))\n",
    "\n",
    "boas_rock = boas_notas(notas_rock)\n",
    "boas_pop = boas_notas(notas_pop)\n",
    "\n",
    "if boas_rock > boas_pop:\n",
    "    print('Rock possui mais músicas classificadas como \"boas\" do que o Pop')\n",
    "else:\n",
    "    print('Pop possui mais músicas classificadas como \"boas\" do que o Rock')"
   ]
  }
 ],
 "metadata": {
  "kernelspec": {
   "display_name": "Python 3",
   "language": "python",
   "name": "python3"
  },
  "language_info": {
   "codemirror_mode": {
    "name": "ipython",
    "version": 3
   },
   "file_extension": ".py",
   "mimetype": "text/x-python",
   "name": "python",
   "nbconvert_exporter": "python",
   "pygments_lexer": "ipython3",
   "version": "3.8.8"
  }
 },
 "nbformat": 4,
 "nbformat_minor": 5
}
