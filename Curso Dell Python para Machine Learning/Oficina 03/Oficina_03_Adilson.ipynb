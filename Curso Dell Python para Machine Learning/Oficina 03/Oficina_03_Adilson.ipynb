{
 "cells": [
  {
   "cell_type": "markdown",
   "id": "1ba619c2",
   "metadata": {},
   "source": [
    "##### Para isso, o recomendado é criar uma lista de formatos correspondentes e aplicá-la à lista de datas de aniversários. O seu objetivo é criar um programa que converta a lista de datas de tipo string em uma lista de objetos do tipo data e organizá-los por ordem de aniversário no ano. Isso significa que primeiro vem o mês e, em seguida, o dia como critério de ordenação."
   ]
  },
  {
   "cell_type": "markdown",
   "id": "3d2b1d23",
   "metadata": {},
   "source": [
    "##### Depois, você deve verificar se o dia de hoje é aniversário de alguém. Caso seja, você deve escrever a string “Hoje, (DIA DA SEMANA) (DIA) de (MÊS) de (ANO ATUAL), tem aniversário!”, em que as palavras DIA DA SEMANA, DIA, MÊS e ANO ATUAL devem ser substituídas pelos seus respectivos valores. As informações devem estar escritas em português"
   ]
  },
  {
   "cell_type": "code",
   "execution_count": 113,
   "id": "5f7b1eb0",
   "metadata": {},
   "outputs": [],
   "source": [
    "aniversarios = ['01/02/1990', '22 de Maio de 1991', '04/Abr/1995', '1995-Outubro-10', '12 Julho 1989', '16 de Junho de 1987', '04/07/1990', '27/10/2021']"
   ]
  },
  {
   "cell_type": "code",
   "execution_count": 114,
   "id": "cd85bb2a",
   "metadata": {},
   "outputs": [],
   "source": [
    "from datetime import date,timedelta,datetime\n",
    "import locale\n",
    "locale.setlocale(locale.LC_ALL, 'pt_BR')\n",
    "\n",
    "class padronizar_datas:\n",
    "    def padron1(input):\n",
    "        'Modelo : 22 de Maio de 1991 '\n",
    "        new_data = datetime.strptime(input,\"%d de %B de %Y\")\n",
    "        return new_data\n",
    "    \n",
    "    def padron2(input):\n",
    "        'Modelo : 04/Abr/1995 '\n",
    "        new_data = datetime.strptime(input,\"%d/%b/%Y\")\n",
    "        return new_data\n",
    "    \n",
    "    def padron3(input):\n",
    "        'Modelo : 1995-Outubro-10'\n",
    "        new_data = datetime.strptime(input,\"%Y-%B-%d\")\n",
    "        return new_data\n",
    "    \n",
    "    def padron4(input):\n",
    "        'Modelo : 12 Julho 1989'\n",
    "        new_data = datetime.strptime(input,\"%d %B %Y\")\n",
    "        return new_data\n",
    "    \n",
    "    def padron5(input):\n",
    "        'Modelo : 04/07/1990'\n",
    "        new_data = datetime.strptime(input,\"%d/%m/%Y\")\n",
    "        return new_data"
   ]
  },
  {
   "cell_type": "code",
   "execution_count": 115,
   "id": "c535bc1d",
   "metadata": {},
   "outputs": [
    {
     "data": {
      "text/plain": [
       "[datetime.datetime(1990, 2, 1, 0, 0),\n",
       " datetime.datetime(1991, 5, 22, 0, 0),\n",
       " datetime.datetime(1995, 4, 4, 0, 0),\n",
       " datetime.datetime(1995, 10, 10, 0, 0),\n",
       " datetime.datetime(1989, 7, 12, 0, 0),\n",
       " datetime.datetime(1987, 6, 16, 0, 0),\n",
       " datetime.datetime(1990, 7, 4, 0, 0),\n",
       " datetime.datetime(2021, 10, 27, 0, 0)]"
      ]
     },
     "execution_count": 115,
     "metadata": {},
     "output_type": "execute_result"
    }
   ],
   "source": [
    "# Padronizar os Aniversários no Formato Datetime\n",
    "\n",
    "aniversarios[0] = padronizar_datas.padron5(aniversarios[0])\n",
    "aniversarios[1] = padronizar_datas.padron1(aniversarios[1])\n",
    "aniversarios[2] = padronizar_datas.padron2(aniversarios[2])\n",
    "aniversarios[3] = padronizar_datas.padron3(aniversarios[3])\n",
    "aniversarios[4] = padronizar_datas.padron4(aniversarios[4])\n",
    "aniversarios[5] = padronizar_datas.padron1(aniversarios[5])\n",
    "aniversarios[6] = padronizar_datas.padron5(aniversarios[6])\n",
    "aniversarios[7] = padronizar_datas.padron5(aniversarios[7])\n",
    "\n",
    "aniversarios"
   ]
  },
  {
   "cell_type": "code",
   "execution_count": 116,
   "id": "ff5ef9d0",
   "metadata": {},
   "outputs": [
    {
     "data": {
      "text/plain": [
       "[datetime.datetime(1990, 2, 1, 0, 0),\n",
       " datetime.datetime(1995, 4, 4, 0, 0),\n",
       " datetime.datetime(1991, 5, 22, 0, 0),\n",
       " datetime.datetime(1987, 6, 16, 0, 0),\n",
       " datetime.datetime(1990, 7, 4, 0, 0),\n",
       " datetime.datetime(1989, 7, 12, 0, 0),\n",
       " datetime.datetime(1995, 10, 10, 0, 0),\n",
       " datetime.datetime(2021, 10, 27, 0, 0)]"
      ]
     },
     "execution_count": 116,
     "metadata": {},
     "output_type": "execute_result"
    }
   ],
   "source": [
    "#Realizar a Ordenação Crescente de Datas\n",
    "\n",
    "sorted(aniversarios,key = lambda d : (d.month,d.day))"
   ]
  },
  {
   "cell_type": "code",
   "execution_count": 117,
   "id": "04ea9f33",
   "metadata": {},
   "outputs": [
    {
     "data": {
      "text/plain": [
       "datetime.datetime(2021, 10, 27, 0, 0)"
      ]
     },
     "execution_count": 117,
     "metadata": {},
     "output_type": "execute_result"
    }
   ],
   "source": [
    "# Necessário \"Igualar\" as variáveis do Datetime para o comparativo funcionar\n",
    "\n",
    "# Conversão da Data Atual para um Padrão Ano-Mês-Dia\n",
    "data_atual = datetime.today().strftime('%Y-%m-%d')\n",
    "\n",
    "# Conversão da String Ano-Mês-Dia para um Datetime\n",
    "data_atual_datetime = datetime.strptime(data_atual,\"%Y-%m-%d\")\n",
    "data_atual_datetime"
   ]
  },
  {
   "cell_type": "code",
   "execution_count": 124,
   "id": "08da17a3",
   "metadata": {},
   "outputs": [
    {
     "name": "stdout",
     "output_type": "stream",
     "text": [
      "Hoje, quarta-feira 27 de outubro de 2021, tem aniversário!”\n"
     ]
    }
   ],
   "source": [
    "# Gera a Lista de Aniversariantes do Dia\n",
    "\n",
    "lista_aniversariantes = []\n",
    "\n",
    "for aniversario in aniversarios:\n",
    "    if aniversario == data_atual_datetime:\n",
    "        lista_aniversariantes.append(aniversario)\n",
    "    else:\n",
    "        pass\n",
    "    \n",
    "    if len(lista_aniversariantes) != 0:\n",
    "        print(f\"Hoje, {data_atual_datetime.strftime('%A')} {data_atual_datetime.strftime('%d')} de {data_atual_datetime.strftime('%B')} de {data_atual_datetime.strftime('%Y')}, tem aniversário!”\")\n",
    "    else:\n",
    "        pass"
   ]
  },
  {
   "cell_type": "markdown",
   "id": "85933dbe",
   "metadata": {},
   "source": [
    "###### Alan, note que para testar a hipótese do aniversário, acabei adicionando uma nova variável na lista inicial de aniversarios para acionar o gatilho do print!"
   ]
  }
 ],
 "metadata": {
  "kernelspec": {
   "display_name": "Python 3",
   "language": "python",
   "name": "python3"
  },
  "language_info": {
   "codemirror_mode": {
    "name": "ipython",
    "version": 3
   },
   "file_extension": ".py",
   "mimetype": "text/x-python",
   "name": "python",
   "nbconvert_exporter": "python",
   "pygments_lexer": "ipython3",
   "version": "3.8.8"
  }
 },
 "nbformat": 4,
 "nbformat_minor": 5
}
