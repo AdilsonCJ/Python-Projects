{
 "cells": [
  {
   "cell_type": "markdown",
   "id": "053f8715",
   "metadata": {},
   "source": [
    "# ETAPA 01"
   ]
  },
  {
   "cell_type": "markdown",
   "id": "209be920",
   "metadata": {},
   "source": [
    "### Os dados estão organizados da seguinte forma: a primeira linha se refere aos stories da Raquel; a segunda, aos do Lucas; e assim por diante. Com relação às colunas, a primeira coluna são os stories do Domingo, em seguida, os stories da Segunda e assim por diante até a última coluna, que se refere ao Sábado.\n",
    "\n",
    "### Sabendo disso, a sua chefe espera que você retorne algumas informações para ela até o fim do dia. Qual a média de visualizações por dia de todas essas pessoas? Qual o dia que teve mais visualizações de stories somadas? Quem foi que teve o maior número de visualizações na última semana?"
   ]
  },
  {
   "cell_type": "code",
   "execution_count": 92,
   "id": "d04a8537",
   "metadata": {},
   "outputs": [],
   "source": [
    "visualizacao_stories = [\n",
    "    [187, 120, 88, 70, 130, 168, 213],\n",
    "    [0, 0, 42, 0, 0, 55, 77],\n",
    "    [91, 0, 61, 0, 71, 121, 271],\n",
    "    [0, 0, 0, 0, 187, 0, 0],\n",
    "    [42, 23, 34, 0, 39, 29, 36]\n",
    "]\n",
    "pessoas = ['Raquel', 'Lucas', 'Daniel', 'Natalia', 'Anderson']\n",
    "dias_semana = ['Domingo', 'Segunda', 'Terça', 'Quarta', 'Quinta', 'Sexta', 'Sábado']"
   ]
  },
  {
   "cell_type": "code",
   "execution_count": 93,
   "id": "978f61b1",
   "metadata": {},
   "outputs": [
    {
     "data": {
      "text/plain": [
       "array([[187, 120,  88,  70, 130, 168, 213],\n",
       "       [  0,   0,  42,   0,   0,  55,  77],\n",
       "       [ 91,   0,  61,   0,  71, 121, 271],\n",
       "       [  0,   0,   0,   0, 187,   0,   0],\n",
       "       [ 42,  23,  34,   0,  39,  29,  36]])"
      ]
     },
     "execution_count": 93,
     "metadata": {},
     "output_type": "execute_result"
    }
   ],
   "source": [
    "import numpy as np\n",
    "\n",
    "# Transformar as informações em Arrays\n",
    "visualizacao_stories = np.array(visualizacao_stories) \n",
    "pessoas = np.array(pessoas)\n",
    "dias_semana = np.array(dias_semana)\n",
    "\n",
    "visualizacao_stories"
   ]
  },
  {
   "cell_type": "code",
   "execution_count": 94,
   "id": "33d36856",
   "metadata": {},
   "outputs": [
    {
     "name": "stdout",
     "output_type": "stream",
     "text": [
      "A média de visualizações do(a) Domingo é de 64.0\n",
      "A média de visualizações do(a) Segunda é de 28.6\n",
      "A média de visualizações do(a) Terça é de 45.0\n",
      "A média de visualizações do(a) Quarta é de 14.0\n",
      "A média de visualizações do(a) Quinta é de 85.4\n",
      "A média de visualizações do(a) Sexta é de 74.6\n",
      "A média de visualizações do(a) Sábado é de 119.4\n"
     ]
    }
   ],
   "source": [
    "# Qual a média de visualizações por dia ?\n",
    "\n",
    "i = 0\n",
    "\n",
    "for dia in dias_semana:\n",
    "    visualizacao_dia = visualizacao_stories[:,i].mean()\n",
    "    print(f'A média de visualizações do(a) {dia} é de {visualizacao_dia}')\n",
    "    i = i + 1"
   ]
  },
  {
   "cell_type": "code",
   "execution_count": 95,
   "id": "40dcd6ae",
   "metadata": {},
   "outputs": [
    {
     "name": "stdout",
     "output_type": "stream",
     "text": [
      "O dia com maior visualização somando todos os influenciadores foi o(a) Sábado\n"
     ]
    }
   ],
   "source": [
    "# Qual o dia que teve mais visualizações de stories somadas?\n",
    "\n",
    "# Gerar Lista com os valores somados de visualização por dia da semana :\n",
    "lista_soma_vis = []\n",
    "i = 0\n",
    "\n",
    "for dia in dias_semana:\n",
    "    lista_soma_vis.append(visualizacao_stories[:,i].sum())\n",
    "    i = i + 1\n",
    "    \n",
    "# Avaliar via índice qual foi o dia com mais visualizações :\n",
    "\n",
    "indice_maior_dia = np.array(lista_soma_vis).argmax()\n",
    "print(f'O dia com maior visualização somando todos os influenciadores foi o(a) {dias_semana[indice_maior_dia]}')"
   ]
  },
  {
   "cell_type": "code",
   "execution_count": 96,
   "id": "4365a638",
   "metadata": {},
   "outputs": [
    {
     "name": "stdout",
     "output_type": "stream",
     "text": [
      "O influenciador(a) com mais visualizações foi o(a) ['Raquel'] com [976] views\n"
     ]
    }
   ],
   "source": [
    "# Quem foi que teve o maior número de visualizações na última semana?\n",
    "\n",
    "# Para cruzar posteriormente o índice, precisamos mudar a estrutura de pessoas\n",
    "pessoas_reshape = pessoas.reshape(5,1)\n",
    "\n",
    "# Preparar variaveis para o processo iterativo\n",
    "i = 0\n",
    "lista_pessoa_popular = []\n",
    "\n",
    "# Iteração para entender a quantidade de visualização por influenciador\n",
    "for pessoa in pessoas_reshape:\n",
    "    lista_pessoa_popular.append(visualizacao_stories[i,:].sum())\n",
    "    i = i + 1\n",
    "    \n",
    "# Transformar a matriz para comparar à pessoa_reshape\n",
    "lista_pessoa_popular_reshape = np.array(lista_pessoa_popular).reshape(5,1)\n",
    "\n",
    "\n",
    "maior_influencer = pessoas_reshape[lista_pessoa_popular_reshape.argmax()]\n",
    "qtd_visualizacoes = lista_pessoa_popular_reshape[lista_pessoa_popular_reshape.argmax()]\n",
    "\n",
    "print(f'O influenciador(a) com mais visualizações foi o(a) {maior_influencer} com {qtd_visualizacoes} views')"
   ]
  },
  {
   "cell_type": "markdown",
   "id": "99f5b232",
   "metadata": {},
   "source": [
    "\n",
    "\n",
    "\n",
    "# ETAPA 02"
   ]
  },
  {
   "cell_type": "markdown",
   "id": "e3e0dfe2",
   "metadata": {},
   "source": [
    "### A sua chefe quer que você realize a análise considerando todos os dados das últimas duas semanas. Considerando isso, você deve responder às mesmas questões da etapa anterior."
   ]
  },
  {
   "cell_type": "code",
   "execution_count": 97,
   "id": "2baeedc3",
   "metadata": {},
   "outputs": [],
   "source": [
    "visualizacao_stories_W1 = [\n",
    "    [187, 120, 88, 70, 130, 168, 213],\n",
    "    [0, 0, 42, 0, 0, 55, 77],\n",
    "    [91, 0, 61, 0, 71, 121, 271],\n",
    "    [0, 0, 0, 0, 187, 0, 0],\n",
    "    [42, 23, 34, 0, 39, 29, 36]\n",
    "]\n",
    "\n",
    "visualizacao_stories_invalidos = np.array([\n",
    "    [52, 68, 97, 55, -1, 98, -1],\n",
    "    [53, -1, 38, -1, -1, 72, 49],\n",
    "    [88, -1, 64, -1, 77, 130, 43],\n",
    "    [-1, 30, -1, -1, -1, 182, -1],\n",
    "    [41, 20, 33, -1, 37, 23, 7]\n",
    "])\n",
    "\n",
    "pessoas_new = ['Raquel', 'Lucas', 'Daniel', 'Natalia', 'Anderson']\n",
    "dias_semana_new = ['Domingo', 'Segunda', 'Terça', 'Quarta', 'Quinta', 'Sexta', 'Sábado']"
   ]
  },
  {
   "cell_type": "code",
   "execution_count": 98,
   "id": "5747a0d6",
   "metadata": {},
   "outputs": [
    {
     "data": {
      "text/plain": [
       "array([[239, 188, 185, 125, 130, 266, 213],\n",
       "       [ 53,   0,  80,   0,   0, 127, 126],\n",
       "       [179,   0, 125,   0, 148, 251, 314],\n",
       "       [  0,  30,   0,   0, 187, 182,   0],\n",
       "       [ 83,  43,  67,   0,  76,  52,  43]])"
      ]
     },
     "execution_count": 98,
     "metadata": {},
     "output_type": "execute_result"
    }
   ],
   "source": [
    "import numpy.ma as ma\n",
    "# Atualizar os dados da W2 para avaliação\n",
    "\n",
    "visualizacao_stories_invalidos\n",
    "visualizacao_W2_mask = np.ma.masked_where(visualizacao_stories_invalidos == -1,visualizacao_stories_invalidos)\n",
    "visualizacao_W2_mask\n",
    "\n",
    "# Preenchimento com os dados reais\n",
    "visualizacao_stories_W2 = visualizacao_W2_mask.filled(0)\n",
    "visualizacao_stories_W2\n",
    "\n",
    "visualizacao_compilada_2WEEKS = (visualizacao_stories_W1 + visualizacao_stories_W2) \n",
    "visualizacao_compilada_2WEEKS"
   ]
  },
  {
   "cell_type": "code",
   "execution_count": 99,
   "id": "b77c3062",
   "metadata": {},
   "outputs": [
    {
     "name": "stdout",
     "output_type": "stream",
     "text": [
      "A média de visualizações ACUMULADA de duas semanas do(a) Domingo é de 110.8\n",
      "A média de visualizações ACUMULADA de duas semanas do(a) Segunda é de 52.2\n",
      "A média de visualizações ACUMULADA de duas semanas do(a) Terça é de 91.4\n",
      "A média de visualizações ACUMULADA de duas semanas do(a) Quarta é de 25.0\n",
      "A média de visualizações ACUMULADA de duas semanas do(a) Quinta é de 108.2\n",
      "A média de visualizações ACUMULADA de duas semanas do(a) Sexta é de 175.6\n",
      "A média de visualizações ACUMULADA de duas semanas do(a) Sábado é de 139.2\n"
     ]
    }
   ],
   "source": [
    "# Qual a média de visualizações por dia ?\n",
    "\n",
    "i = 0\n",
    "\n",
    "for dia in dias_semana:\n",
    "    visualizacao_dia = visualizacao_compilada_2WEEKS[:,i].mean()\n",
    "    print(f'A média de visualizações ACUMULADA de duas semanas do(a) {dia} é de {visualizacao_dia}')\n",
    "    i = i + 1"
   ]
  },
  {
   "cell_type": "code",
   "execution_count": 100,
   "id": "70507718",
   "metadata": {},
   "outputs": [
    {
     "name": "stdout",
     "output_type": "stream",
     "text": [
      "O dia com maior visualização somando todos os influenciadores foi o(a) Sexta\n"
     ]
    }
   ],
   "source": [
    "# Qual o dia que teve mais visualizações de stories somadas?\n",
    "\n",
    "# Gerar Lista com os valores somados de visualização por dia da semana :\n",
    "lista_soma_vis = []\n",
    "i = 0\n",
    "\n",
    "for dia in dias_semana:\n",
    "    lista_soma_vis.append(visualizacao_compilada_2WEEKS[:,i].sum())\n",
    "    i = i + 1\n",
    "    \n",
    "# Avaliar via índice qual foi o dia com mais visualizações :\n",
    "\n",
    "indice_maior_dia = np.array(lista_soma_vis).argmax()\n",
    "print(f'O dia com maior visualização somando todos os influenciadores foi o(a) {dias_semana[indice_maior_dia]}')"
   ]
  },
  {
   "cell_type": "code",
   "execution_count": 103,
   "id": "cdf9c8e3",
   "metadata": {},
   "outputs": [
    {
     "name": "stdout",
     "output_type": "stream",
     "text": [
      "O influenciador(a) com mais visualizações foi o(a) ['Raquel'] com [1346] views\n"
     ]
    }
   ],
   "source": [
    "# Quem foi que teve o maior número de visualizações na última semana?\n",
    "\n",
    "# Preparar variaveis para o processo iterativo\n",
    "i = 0\n",
    "lista_pessoa_popular_new = []\n",
    "\n",
    "# Iteração para entender a quantidade de visualização por influenciador\n",
    "for pessoa in pessoas_reshape:\n",
    "    lista_pessoa_popular_new.append(visualizacao_compilada_2WEEKS[i,:].sum())\n",
    "    i = i + 1\n",
    "    \n",
    "# Transformar a matriz para comparar à pessoa_reshape\n",
    "lista_pessoa_popular_reshape_new = np.array(lista_pessoa_popular_new).reshape(5,1)\n",
    "\n",
    "\n",
    "maior_influencer_new = pessoas_reshape[lista_pessoa_popular_reshape_new.argmax()]\n",
    "qtd_visualizacoes_new = lista_pessoa_popular_reshape_new[lista_pessoa_popular_reshape_new.argmax()]\n",
    "\n",
    "print(f'O influenciador(a) com mais visualizações foi o(a) {maior_influencer_new} com {qtd_visualizacoes_new} views')"
   ]
  }
 ],
 "metadata": {
  "kernelspec": {
   "display_name": "Python 3",
   "language": "python",
   "name": "python3"
  },
  "language_info": {
   "codemirror_mode": {
    "name": "ipython",
    "version": 3
   },
   "file_extension": ".py",
   "mimetype": "text/x-python",
   "name": "python",
   "nbconvert_exporter": "python",
   "pygments_lexer": "ipython3",
   "version": "3.8.8"
  }
 },
 "nbformat": 4,
 "nbformat_minor": 5
}
