{
 "cells": [
  {
   "cell_type": "markdown",
   "id": "229884e9",
   "metadata": {},
   "source": [
    "#### Para isso, você precisou construir um código que informasse a quantidade de erros ocorridos e quais os horários em que mais ocorrem erro. Estas informações serão uteis para lhe ajudar a investigar a causa do problema.\n",
    "\n",
    "#### Sabendo que o log possui uma formatação clara (Dia-Mês-Ano Hora:Minuto:Segundo:Milesimos_de_segundos | Nivel_de_gravidade -> Mensagem), utilize a string a seguir como exemplo para fazer o seu código. Ao final, envie seu código em Python, ou seja, um arquivo com a extensão ‘py’, para avaliarmos como você resolveu esse problema."
   ]
  },
  {
   "cell_type": "code",
   "execution_count": 115,
   "id": "8b3b6dca",
   "metadata": {},
   "outputs": [],
   "source": [
    "log = r\"2020-05-10 20:42:54,687 | INFO -> O programa foi iniciado\\n2020-05-11 00:09:52,532 | ERROR -> Erro não esperado\\n2020-05-11 09:01:10,812 | INFO -> O usuário utilizou o sistema\\n2020-05-11 19:06:13,609 | INFO -> O usuário utilizou o sistema\\n2020-05-11 20:46:35,271 | ERROR -> Erro não esperado\\n2020-05-12 08:14:59,895 | ERROR -> Erro não esperado\\n2020-05-12 11:33:59,700 | INFO -> O usuário utilizou o sistema\\n2020-05-13 10:20:14,673 | INFO -> O usuário utilizou o sistema\\n2020-05-13 16:58:10,298 | WARNING -> O usuário tentou fazer uma operação invalida\\n2020-05-14 03:55:25,383 | INFO -> O usuário utilizou o sistema\\n2020-05-15 02:59:29,002 | INFO -> O usuário utilizou o sistema\\n2020-05-15 08:40:33,776 | ERROR -> Erro não esperado\\n2020-05-15 13:45:29,089 | WARNING -> O usuário tentou fazer uma operação invalida\""
   ]
  },
  {
   "cell_type": "markdown",
   "id": "6ebd67a0",
   "metadata": {},
   "source": [
    "#### Localizar  Quantidades de Erros Ocorridos"
   ]
  },
  {
   "cell_type": "code",
   "execution_count": 116,
   "id": "e929cf0e",
   "metadata": {},
   "outputs": [
    {
     "name": "stdout",
     "output_type": "stream",
     "text": [
      "A quantidade de Logs do Tipo DEBUG encontrados foram :  0\n",
      "A quantidade de Logs do Tipo INFO encontrados foram :  7\n",
      "A quantidade de Logs do Tipo WARNING encontrados foram :  2\n",
      "A quantidade de Logs do Tipo ERROR encontrados foram :  4\n",
      "A quantidade de Logs do Tipo CRITICAL encontrados foram :  0\n"
     ]
    }
   ],
   "source": [
    "import re\n",
    "\n",
    "list_logs = [r'DEBUG',r'INFO',r'WARNING',r'ERROR',r'CRITICAL']\n",
    "\n",
    "for logs in list_logs:\n",
    "    print('A quantidade de Logs do Tipo {} encontrados foram : '.format(logs) +\" \"+ str(len(re.findall(logs,log))))"
   ]
  },
  {
   "cell_type": "markdown",
   "id": "90676732",
   "metadata": {},
   "source": [
    "#### Avaliar Eventos por horários"
   ]
  },
  {
   "cell_type": "code",
   "execution_count": 117,
   "id": "5246068d",
   "metadata": {},
   "outputs": [
    {
     "name": "stdout",
     "output_type": "stream",
     "text": [
      "[' 20:42', ' 00:09', ' 09:01', ' 19:06', ' 20:46', ' 08:14', ' 11:33', ' 10:20', ' 16:58', ' 03:55', ' 02:59', ' 08:40', ' 13:45']\n",
      "[' 20', ' 00', ' 09', ' 19', ' 20', ' 08', ' 11', ' 10', ' 16', ' 03', ' 02', ' 08', ' 13']\n"
     ]
    }
   ],
   "source": [
    "### Vamos primeiro imprimir a lista considerando as horas e minutos\n",
    "print(re.findall(r'\\s\\d{2}\\W\\d{2}',log))\n",
    "\n",
    "### Segundo vamos imprimir a lista considerando apenas as horas\n",
    "print(re.findall(r'\\s\\d{2}',log))"
   ]
  },
  {
   "cell_type": "code",
   "execution_count": 118,
   "id": "354b5384",
   "metadata": {},
   "outputs": [
    {
     "data": {
      "text/html": [
       "<div>\n",
       "<style scoped>\n",
       "    .dataframe tbody tr th:only-of-type {\n",
       "        vertical-align: middle;\n",
       "    }\n",
       "\n",
       "    .dataframe tbody tr th {\n",
       "        vertical-align: top;\n",
       "    }\n",
       "\n",
       "    .dataframe thead th {\n",
       "        text-align: right;\n",
       "    }\n",
       "</style>\n",
       "<table border=\"1\" class=\"dataframe\">\n",
       "  <thead>\n",
       "    <tr style=\"text-align: right;\">\n",
       "      <th></th>\n",
       "      <th>Hora Log</th>\n",
       "    </tr>\n",
       "  </thead>\n",
       "  <tbody>\n",
       "    <tr>\n",
       "      <th>1</th>\n",
       "      <td>00:09</td>\n",
       "    </tr>\n",
       "    <tr>\n",
       "      <th>10</th>\n",
       "      <td>02:59</td>\n",
       "    </tr>\n",
       "    <tr>\n",
       "      <th>9</th>\n",
       "      <td>03:55</td>\n",
       "    </tr>\n",
       "    <tr>\n",
       "      <th>5</th>\n",
       "      <td>08:14</td>\n",
       "    </tr>\n",
       "    <tr>\n",
       "      <th>11</th>\n",
       "      <td>08:40</td>\n",
       "    </tr>\n",
       "    <tr>\n",
       "      <th>2</th>\n",
       "      <td>09:01</td>\n",
       "    </tr>\n",
       "    <tr>\n",
       "      <th>7</th>\n",
       "      <td>10:20</td>\n",
       "    </tr>\n",
       "    <tr>\n",
       "      <th>6</th>\n",
       "      <td>11:33</td>\n",
       "    </tr>\n",
       "    <tr>\n",
       "      <th>12</th>\n",
       "      <td>13:45</td>\n",
       "    </tr>\n",
       "    <tr>\n",
       "      <th>8</th>\n",
       "      <td>16:58</td>\n",
       "    </tr>\n",
       "    <tr>\n",
       "      <th>3</th>\n",
       "      <td>19:06</td>\n",
       "    </tr>\n",
       "    <tr>\n",
       "      <th>0</th>\n",
       "      <td>20:42</td>\n",
       "    </tr>\n",
       "    <tr>\n",
       "      <th>4</th>\n",
       "      <td>20:46</td>\n",
       "    </tr>\n",
       "  </tbody>\n",
       "</table>\n",
       "</div>"
      ],
      "text/plain": [
       "   Hora Log\n",
       "1     00:09\n",
       "10    02:59\n",
       "9     03:55\n",
       "5     08:14\n",
       "11    08:40\n",
       "2     09:01\n",
       "7     10:20\n",
       "6     11:33\n",
       "12    13:45\n",
       "8     16:58\n",
       "3     19:06\n",
       "0     20:42\n",
       "4     20:46"
      ]
     },
     "execution_count": 118,
     "metadata": {},
     "output_type": "execute_result"
    }
   ],
   "source": [
    "import pandas as pd\n",
    "\n",
    "\n",
    "# Distribuição de TODOS os eventos\n",
    "horas_eventos = (re.findall(r'\\s\\d{2}\\W\\d{2}',log))\n",
    "\n",
    "for evento in horas_eventos:\n",
    "    evento = evento.lstrip()\n",
    "\n",
    "# Transformação em DataFrame, Alteração no Nome da Coluna e Sort para avaliar distribuição dos horários\n",
    "horas_eventos_DF = pd.DataFrame(horas_eventos)\n",
    "horas_eventos_DF.rename(columns={ 0 :'Hora Log'},inplace=True)\n",
    "horas_eventos_DF.sort_values(by=['Hora Log'])\n",
    "\n",
    "# Como podemos avaliar, os logs apresentam uma distribuição razoável no decorrer de um dia"
   ]
  },
  {
   "cell_type": "markdown",
   "id": "9dd556ca",
   "metadata": {},
   "source": [
    "#### Localizar  Horários onde ocorrem mais Erros"
   ]
  },
  {
   "cell_type": "code",
   "execution_count": 119,
   "id": "181d3567",
   "metadata": {},
   "outputs": [
    {
     "data": {
      "text/html": [
       "<div>\n",
       "<style scoped>\n",
       "    .dataframe tbody tr th:only-of-type {\n",
       "        vertical-align: middle;\n",
       "    }\n",
       "\n",
       "    .dataframe tbody tr th {\n",
       "        vertical-align: top;\n",
       "    }\n",
       "\n",
       "    .dataframe thead th {\n",
       "        text-align: right;\n",
       "    }\n",
       "</style>\n",
       "<table border=\"1\" class=\"dataframe\">\n",
       "  <thead>\n",
       "    <tr style=\"text-align: right;\">\n",
       "      <th></th>\n",
       "      <th>Hora Log</th>\n",
       "      <th>Log</th>\n",
       "    </tr>\n",
       "  </thead>\n",
       "  <tbody>\n",
       "    <tr>\n",
       "      <th>1</th>\n",
       "      <td>00:09</td>\n",
       "      <td>ERROR</td>\n",
       "    </tr>\n",
       "    <tr>\n",
       "      <th>4</th>\n",
       "      <td>20:46</td>\n",
       "      <td>ERROR</td>\n",
       "    </tr>\n",
       "    <tr>\n",
       "      <th>5</th>\n",
       "      <td>08:14</td>\n",
       "      <td>ERROR</td>\n",
       "    </tr>\n",
       "    <tr>\n",
       "      <th>11</th>\n",
       "      <td>08:40</td>\n",
       "      <td>ERROR</td>\n",
       "    </tr>\n",
       "  </tbody>\n",
       "</table>\n",
       "</div>"
      ],
      "text/plain": [
       "   Hora Log    Log\n",
       "1     00:09  ERROR\n",
       "4     20:46  ERROR\n",
       "5     08:14  ERROR\n",
       "11    08:40  ERROR"
      ]
     },
     "execution_count": 119,
     "metadata": {},
     "output_type": "execute_result"
    }
   ],
   "source": [
    "# Ideia : Gerar 2 listas - uma contendo o horário e a outra os logs de erro\n",
    "# Necessário Filtrar os logs de erros\n",
    "\n",
    "horas_eventos = (re.findall(r'\\s\\d{2}\\W\\d{2}',log))\n",
    "\n",
    "# Limpeza dos Espaços em Branco\n",
    "s_horas_eventos = [i.strip(\" \") for i in horas_eventos ]\n",
    "s_horas_eventos\n",
    "# Filtro dos eventos e Limpeza dos Espaços em Branco e Caracteres\n",
    "log_eventos = (re.findall(r'\\s\\W\\s\\w{4,7}',log))\n",
    "s_log_eventos = [i.strip(\" \") for i in log_eventos ]\n",
    "s_log_eventos = [i.strip(\"|\") for i in s_log_eventos]\n",
    "s_log_eventos = [i.strip(\" \") for i in s_log_eventos]\n",
    "s_log_eventos\n",
    "\n",
    "# Transformada em Dataframe\n",
    "\n",
    "DF_s_horas_eventos = pd.DataFrame(s_horas_eventos)\n",
    "DF_s_horas_eventos.rename(columns={ 0 :'Hora Log'},inplace=True)\n",
    "DF_s_log_eventos = pd.DataFrame(s_log_eventos)\n",
    "DF_s_log_eventos.rename(columns={ 0 :'Log'},inplace=True)\n",
    "\n",
    "# Unindo os Dataframes\n",
    "DF = pd.concat([DF_s_horas_eventos,DF_s_log_eventos],axis=1)\n",
    "\n",
    "# Por fim, filtrando os eventos de Erros\n",
    "DF[DF['Log'] == 'ERROR']"
   ]
  },
  {
   "cell_type": "markdown",
   "id": "ebdba545",
   "metadata": {},
   "source": [
    "### Através da Avaliação acima, percebemos que temos uma maior incidência de eventos de erros às 8 horas da manhã (Talvez em função de um problema de startup das máquinas com as pessoas começando a jornada de trabalho) . Os outros erros acontecem na parte da noite e de madrugada"
   ]
  }
 ],
 "metadata": {
  "kernelspec": {
   "display_name": "Python 3",
   "language": "python",
   "name": "python3"
  },
  "language_info": {
   "codemirror_mode": {
    "name": "ipython",
    "version": 3
   },
   "file_extension": ".py",
   "mimetype": "text/x-python",
   "name": "python",
   "nbconvert_exporter": "python",
   "pygments_lexer": "ipython3",
   "version": "3.8.8"
  }
 },
 "nbformat": 4,
 "nbformat_minor": 5
}
