{
 "cells": [
  {
   "cell_type": "markdown",
   "id": "2fc4d2db",
   "metadata": {},
   "source": [
    "# ETAPA 01"
   ]
  },
  {
   "cell_type": "markdown",
   "id": "17bb7fe1",
   "metadata": {},
   "source": [
    "#### Pedra (punho fechado) ganha da tesoura, pois a pedra quebra a tesoura.\n",
    "#### Tesoura (dedo indicador e dedo médio) ganha do papel, cortando-o.\n",
    "#### Papel (mão aberta) ganha da pedra, embrulhando-a."
   ]
  },
  {
   "cell_type": "code",
   "execution_count": 7,
   "id": "9d91b324",
   "metadata": {},
   "outputs": [],
   "source": [
    "import itertools"
   ]
  },
  {
   "cell_type": "code",
   "execution_count": 8,
   "id": "8af9bfe0",
   "metadata": {},
   "outputs": [
    {
     "name": "stdout",
     "output_type": "stream",
     "text": [
      "[('Pedra', 'Papel'), ('Pedra', 'Tesoura'), ('Papel', 'Pedra'), ('Papel', 'Tesoura'), ('Tesoura', 'Pedra'), ('Tesoura', 'Papel')]\n"
     ]
    }
   ],
   "source": [
    "possibilidades = ['Pedra','Papel','Tesoura']\n",
    "print(list(itertools.permutations(possibilidades,2)))"
   ]
  },
  {
   "cell_type": "code",
   "execution_count": 16,
   "id": "5cab871e",
   "metadata": {},
   "outputs": [
    {
     "name": "stdout",
     "output_type": "stream",
     "text": [
      "Gostaria de Jogar Jokempô? (Y/N) Y\n",
      "Vamos Jogar!\n",
      "\n",
      "Selecione Entre Pedra, Papel ou Tesoura: Papel\n",
      "Escolha do Jogador : Papel\n",
      "Escolha do Computador : Papel\n",
      "Empate !\n",
      "Gostaria de Jogar Jokempô? (Y/N) Y\n",
      "Vamos Jogar!\n",
      "\n",
      "Selecione Entre Pedra, Papel ou Tesoura: Tesoura\n",
      "Escolha do Jogador : Tesoura\n",
      "Escolha do Computador : Papel\n",
      "Vitória do Jogador!\n",
      "Gostaria de Jogar Jokempô? (Y/N) N\n",
      "Até logo\n"
     ]
    }
   ],
   "source": [
    "import random\n",
    "\n",
    "iniciar_jogo = 'Y'\n",
    "escolha_jogador_hist = []\n",
    "\n",
    "while iniciar_jogo == 'Y':\n",
    "    \n",
    "    iniciar_jogo = input('Gostaria de Jogar Jokempô? (Y/N) ')\n",
    "    possibilidades = ['Pedra','Papel','Tesoura']\n",
    "\n",
    "    if iniciar_jogo == 'Y':\n",
    "        print('Vamos Jogar!')\n",
    "        escolha_jogador = input('\\nSelecione Entre Pedra, Papel ou Tesoura: ')\n",
    "        print(f'Escolha do Jogador : {escolha_jogador}')\n",
    "        escolha_computador = random.choice(possibilidades) \n",
    "        print(f'Escolha do Computador : {escolha_computador}')\n",
    "        escolha_jogador_hist.append(escolha_jogador)\n",
    "\n",
    "        # Seleção das Variáveis do Jogo\n",
    "        if escolha_jogador == 'Pedra' and escolha_computador == 'Pedra':\n",
    "            print('Empate !')\n",
    "        elif escolha_jogador == 'Papel' and escolha_computador == 'Papel':\n",
    "            print('Empate !')\n",
    "        elif escolha_jogador == 'Tesoura' and escolha_computador == 'Tesoura':\n",
    "            print('Empate !')\n",
    "        elif escolha_jogador == 'Pedra' and escolha_computador == 'Papel':\n",
    "            print('Vitória do Jogador !')\n",
    "        elif escolha_jogador == 'Pedra' and escolha_computador == 'Tesoura':\n",
    "            print('Vitória do Computador!')\n",
    "        elif escolha_jogador == 'Papel' and escolha_computador == 'Pedra':\n",
    "            print('Vitória do Jogador!')\n",
    "        elif escolha_jogador == 'Papel' and escolha_computador == 'Tesoura':\n",
    "            print('Vitória do Computador!')\n",
    "        elif escolha_jogador == 'Tesoura' and escolha_computador == 'Pedra':\n",
    "            print('Vitória do Computador!')\n",
    "        elif escolha_jogador == 'Tesoura' and escolha_computador == 'Papel':\n",
    "            print('Vitória do Jogador!')\n",
    "    else:\n",
    "        print('Até logo')"
   ]
  },
  {
   "cell_type": "markdown",
   "id": "eea56b46",
   "metadata": {},
   "source": [
    "# ETAPA 02"
   ]
  },
  {
   "cell_type": "markdown",
   "id": "7c591985",
   "metadata": {},
   "source": [
    "### A dica é: de acordo com as jogadas do adversário, faça com que a máquina identifique qual é o símbolo que ele mais utiliza e, sabendo disso, faça a máquina escolher o símbolo que ganhará do símbolo que ele mais usa."
   ]
  },
  {
   "cell_type": "code",
   "execution_count": 12,
   "id": "b5507033",
   "metadata": {},
   "outputs": [],
   "source": [
    "import statistics\n",
    "\n",
    "# Método Zero Baseado na maior frequência da sua lista\n",
    "\n",
    "def treinar_machine(escolha_jogador_hist):\n",
    "    freq = statistics.mode(escolha_jogador_hist)\n",
    "    if freq == 'Papel':\n",
    "        escolha_computador = 'Tesoura'\n",
    "    elif freq == 'Tesoura':\n",
    "        escolha_computador = 'Pedra'\n",
    "    else:\n",
    "        escolha_computador = 'Papel'"
   ]
  },
  {
   "cell_type": "code",
   "execution_count": null,
   "id": "daaf398e",
   "metadata": {},
   "outputs": [
    {
     "name": "stdout",
     "output_type": "stream",
     "text": [
      "Gostaria de Jogar Jokempô? (Y/N) Y\n",
      "Vamos Jogar!\n",
      "\n",
      "Selecione Entre Pedra, Papel ou Tesoura: Tesoura\n",
      "Escolha do Jogador : Tesoura\n",
      "Escolha do Computador : Tesoura\n",
      "Empate !\n",
      "Gostaria de Jogar Jokempô? (Y/N) Y\n",
      "Vamos Jogar!\n",
      "\n",
      "Selecione Entre Pedra, Papel ou Tesoura: Tesoura\n",
      "Escolha do Jogador : Tesoura\n",
      "Escolha do Computador : Tesoura\n",
      "Empate !\n",
      "Gostaria de Jogar Jokempô? (Y/N) Y\n",
      "Vamos Jogar!\n",
      "\n",
      "Selecione Entre Pedra, Papel ou Tesoura: Tesoura\n",
      "Escolha do Jogador : Tesoura\n",
      "Escolha do Computador : Papel\n",
      "Vitória do Jogador!\n",
      "Gostaria de Jogar Jokempô? (Y/N) Y\n",
      "Vamos Jogar!\n",
      "\n",
      "Selecione Entre Pedra, Papel ou Tesoura: Pedra\n",
      "Escolha do Jogador : Pedra\n",
      "Escolha do Computador : Tesoura\n",
      "Vitória do Jogador!\n",
      "Gostaria de Jogar Jokempô? (Y/N) Y\n",
      "Vamos Jogar!\n",
      "\n",
      "Selecione Entre Pedra, Papel ou Tesoura: Papel\n",
      "Escolha do Jogador : Papel\n",
      "Escolha do Computador : Pedra\n",
      "Vitória do Jogador!\n",
      "Gostaria de Jogar Jokempô? (Y/N) Y\n",
      "Vamos Jogar!\n",
      "\n",
      "Selecione Entre Pedra, Papel ou Tesoura: Tesoura\n",
      "Escolha do Jogador : Tesoura\n",
      "Escolha do Computador : Pedra\n",
      "Vitória do Computador!\n"
     ]
    }
   ],
   "source": [
    "import random\n",
    "\n",
    "iniciar_jogo = 'Y'\n",
    "escolha_jogador_hist = []\n",
    "contador_partida = 0\n",
    "\n",
    "while iniciar_jogo == 'Y':\n",
    "    \n",
    "    iniciar_jogo = input('Gostaria de Jogar Jokempô? (Y/N) ')\n",
    "    possibilidades = ['Pedra','Papel','Tesoura']\n",
    "\n",
    "    if iniciar_jogo == 'Y':\n",
    "        print('Vamos Jogar!')\n",
    "        escolha_jogador = input('\\nSelecione Entre Pedra, Papel ou Tesoura: ')\n",
    "        print(f'Escolha do Jogador : {escolha_jogador}')\n",
    "        \n",
    "        if contador_partida <= 5:\n",
    "            escolha_computador = random.choice(possibilidades) \n",
    "            print(f'Escolha do Computador : {escolha_computador}')\n",
    "            escolha_jogador_hist.append(escolha_jogador)\n",
    "        else:\n",
    "            treinar_machine(escolha_jogador_hist)\n",
    "            print(f'Escolha do Computador ZeroR : {escolha_computador}')\n",
    "\n",
    "        # Seleção das Variáveis do Jogo\n",
    "        if escolha_jogador == 'Pedra' and escolha_computador == 'Pedra':\n",
    "            print('Empate !')\n",
    "        elif escolha_jogador == 'Papel' and escolha_computador == 'Papel':\n",
    "            print('Empate !')\n",
    "        elif escolha_jogador == 'Tesoura' and escolha_computador == 'Tesoura':\n",
    "            print('Empate !')\n",
    "        elif escolha_jogador == 'Pedra' and escolha_computador == 'Papel':\n",
    "            print('Vitória do Computador !')\n",
    "        elif escolha_jogador == 'Pedra' and escolha_computador == 'Tesoura':\n",
    "            print('Vitória do Jogador!')\n",
    "        elif escolha_jogador == 'Papel' and escolha_computador == 'Pedra':\n",
    "            print('Vitória do Jogador!')\n",
    "        elif escolha_jogador == 'Papel' and escolha_computador == 'Tesoura':\n",
    "            print('Vitória do Computador!')\n",
    "        elif escolha_jogador == 'Tesoura' and escolha_computador == 'Pedra':\n",
    "            print('Vitória do Computador!')\n",
    "        elif escolha_jogador == 'Tesoura' and escolha_computador == 'Papel':\n",
    "            print('Vitória do Jogador!')\n",
    "    else:\n",
    "\n",
    "        print('Até logo')\n",
    "        \n",
    "    contador_partida = contador_partida + 1"
   ]
  },
  {
   "cell_type": "code",
   "execution_count": null,
   "id": "923cad45",
   "metadata": {
    "collapsed": true
   },
   "outputs": [],
   "source": []
  }
 ],
 "metadata": {
  "kernelspec": {
   "display_name": "Python 3",
   "language": "python",
   "name": "python3"
  },
  "language_info": {
   "codemirror_mode": {
    "name": "ipython",
    "version": 3
   },
   "file_extension": ".py",
   "mimetype": "text/x-python",
   "name": "python",
   "nbconvert_exporter": "python",
   "pygments_lexer": "ipython3",
   "version": "3.8.8"
  }
 },
 "nbformat": 4,
 "nbformat_minor": 5
}
